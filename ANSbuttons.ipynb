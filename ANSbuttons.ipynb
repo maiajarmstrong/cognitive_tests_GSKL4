{
 "cells": [
  {
   "cell_type": "code",
   "execution_count": 1,
   "id": "ebf2e71f-df94-410d-8cde-ed4b730373db",
   "metadata": {},
   "outputs": [],
   "source": [
    "from IPython.display import display, Image, clear_output, HTML\n",
    "import time\n",
    "import random \n",
    "import ipywidgets as widgets\n",
    "from jupyter_ui_poll import ui_events\n",
    "import pandas as pd \n",
    "import requests\n",
    "from bs4 import BeautifulSoup\n",
    "import json"
   ]
  },
  {
   "cell_type": "code",
   "execution_count": 2,
   "id": "7126115b-f2b9-4206-bf73-78af7ef541ef",
   "metadata": {},
   "outputs": [],
   "source": [
    "results_dict = {\n",
    "    'filename': [],\n",
    "    'correct': []\n",
    "}"
   ]
  },
  {
   "cell_type": "code",
   "execution_count": 3,
   "id": "417ef4ef-43ce-4574-8cb2-ad2ce500b5e2",
   "metadata": {},
   "outputs": [],
   "source": [
    "def register_btn_event(btn):\n",
    "    event_info['type'] = \"button click\"\n",
    "    event_info['description'] = btn.description\n",
    "    event_info['time'] = time.time()\n",
    "    return"
   ]
  },
  {
   "cell_type": "code",
   "execution_count": 4,
   "id": "375aa2d5-4041-4b9f-93c7-676ccb0b1089",
   "metadata": {},
   "outputs": [
    {
     "data": {
      "text/html": [
       "<img style='width: 600px;' src=myfigure.png></img>"
      ],
      "text/plain": [
       "<IPython.core.display.HTML object>"
      ]
     },
     "metadata": {},
     "output_type": "display_data"
    }
   ],
   "source": [
    "def display_test_img(img_file):\n",
    "    style_str = f'width: 600px;'\n",
    "    html_out = HTML(f\"<img style='{style_str}' src={img_file}></img>\")\n",
    "    display(html_out)\n",
    "    \n",
    "display_test_img(\"myfigure.png\") "
   ]
  },
  {
   "cell_type": "code",
   "execution_count": 5,
   "id": "cb5a0b0c-745e-4ccc-b4e7-e089037fa1dc",
   "metadata": {},
   "outputs": [],
   "source": [
    "def send_to_google_form(data_dict, form_url):\n",
    "    form_id = form_url[34:90]\n",
    "    view_form_url = f'https://docs.google.com/forms/d/e/{form_id}/viewform'\n",
    "    post_form_url = f'https://docs.google.com/forms/d/e/{form_id}/formResponse'\n",
    "\n",
    "    page = requests.get(view_form_url)\n",
    "    content = BeautifulSoup(page.content, \"html.parser\").find('script', type='text/javascript')\n",
    "    content = content.text[27:-1]\n",
    "    result = json.loads(content)[1][1]\n",
    "    form_dict = {}\n",
    "    \n",
    "    loaded_all = True\n",
    "    for item in result:\n",
    "        if item[1] not in data_dict:\n",
    "            print(f\"Form item {item[1]} not found. Data not uploaded.\")\n",
    "            loaded_all = False\n",
    "            return False\n",
    "        form_dict[f'entry.{item[4][0][0]}'] = data_dict[item[1]]\n",
    "    \n",
    "    post_result = requests.post(post_form_url, data=form_dict)\n",
    "    return post_result.ok"
   ]
  },
  {
   "cell_type": "code",
   "execution_count": 6,
   "id": "2e314713-914b-48ed-adef-639705e34bd7",
   "metadata": {},
   "outputs": [],
   "source": [
    "event_info = {\n",
    "    'type': '',\n",
    "    'description': '',\n",
    "    'time': -1\n",
    "}\n",
    "\n",
    "def wait_for_event(timeout=-1, interval=0.001, max_rate=20, allow_interupt=True):    \n",
    "    start_wait = time.time()\n",
    "\n",
    "    # set event info to be empty\n",
    "    # as this is dict we can change entries\n",
    "    # directly without using\n",
    "    # the global keyword\n",
    "    event_info['type'] = \"\"\n",
    "    event_info['description'] = \"\"\n",
    "    event_info['time'] = -1\n",
    "\n",
    "    n_proc = int(max_rate*interval)+1\n",
    "    with ui_events() as ui_poll:\n",
    "        keep_looping = True\n",
    "        while keep_looping==True:\n",
    "            # process UI events\n",
    "            ui_poll(n_proc)\n",
    "\n",
    "            # end loop if we have waited more than the timeout period\n",
    "            if (timeout != -1) and (time.time() > start_wait + timeout):\n",
    "                keep_looping = False\n",
    "                \n",
    "            # end loop if event has occured\n",
    "            if allow_interupt==True and event_info['description']!=\"\":\n",
    "                keep_looping = False\n",
    "                \n",
    "            # add pause before looping\n",
    "            # to check events again\n",
    "            time.sleep(interval)\n",
    "    \n",
    "    # return event description after wait ends\n",
    "    # will be set to empty string '' if no event occured\n",
    "    return event_info\n",
    "\n",
    "# this function lets buttons \n",
    "# register events when clicked\n",
    "def register_btn_event(btn):\n",
    "    event_info['type'] = \"button click\"\n",
    "    event_info['description'] = btn.description\n",
    "    event_info['time'] = time.time()\n",
    "    return    "
   ]
  },
  {
   "cell_type": "code",
   "execution_count": 7,
   "id": "1bc66dcb-bedd-4c95-be00-b44720f5bfea",
   "metadata": {},
   "outputs": [],
   "source": [
    "def run_ans_test(img_file, right_answer):\n",
    "    blank_pic = Image(\"blank.png\", width=600)\n",
    "\n",
    "    btn1 = widgets.Button(description=\"blue\")\n",
    "    btn2 = widgets.Button(description=\"yellow\")\n",
    "\n",
    "    btn1.on_click(register_btn_event)\n",
    "    btn2.on_click(register_btn_event)\n",
    "\n",
    "    display_test_img(img_file)\n",
    "    time.sleep(0.75)\n",
    "    clear_output(wait=True)\n",
    "    display(blank_pic)\n",
    "    print(\"Input your answer: blue or yellow\")\n",
    "    display(btn1)\n",
    "    display(btn2)\n",
    "\n",
    "    result = wait_for_event(timeout=3)\n",
    "\n",
    "    if result['description'] == right_answer:\n",
    "        score = 1\n",
    "    else:\n",
    "        score = 0\n",
    "\n",
    "    results_dict['filename'].append(img_file)\n",
    "    \n",
    "    if result['description'] == right_answer:\n",
    "        results_dict['correct'].append('yes')\n",
    "    else:\n",
    "        results_dict['correct'].append('no')\n",
    "\n",
    "    clear_output(wait=True)\n",
    "    return score\n"
   ]
  },
  {
   "cell_type": "code",
   "execution_count": 8,
   "id": "bde45138-b7ec-43b8-a21d-a9357494b34a",
   "metadata": {},
   "outputs": [
    {
     "name": "stdout",
     "output_type": "stream",
     "text": [
      "You scored 38\n",
      "          filename correct\n",
      "0   20_vs_18_b.png     yes\n",
      "1   14_vs_12_b.png     yes\n",
      "2      9_vs_10.png     yes\n",
      "3    10_vs_9_b.png     yes\n",
      "4      9_vs_12.png     yes\n",
      "5   18_vs_16_b.png     yes\n",
      "6     18_vs_21.png     yes\n",
      "7     18_vs_20.png     yes\n",
      "8     16_vs_18.png      no\n",
      "9   16_vs_12_b.png     yes\n",
      "10  20_vs_15_b.png     yes\n",
      "11  21_vs_18_b.png     yes\n",
      "12    12_vs_14.png     yes\n",
      "13    15_vs_20.png      no\n",
      "14   12_vs_9_b.png      no\n",
      "15    12_vs_16.png     yes\n",
      "{'id': 'SORZ', 'age': '21', 'gender': 'f', 'score': 38, 'results': '{\"filename\":{\"0\":\"12_vs_14.png\",\"1\":\"20_vs_15_b.png\",\"2\":\"16_vs_18.png\",\"3\":\"18_vs_20.png\",\"4\":\"14_vs_12_b.png\",\"5\":\"12_vs_16.png\",\"6\":\"18_vs_21.png\",\"7\":\"16_vs_12_b.png\",\"8\":\"15_vs_20.png\",\"9\":\"21_vs_18_b.png\",\"10\":\"9_vs_12.png\",\"11\":\"10_vs_9_b.png\",\"12\":\"9_vs_10.png\",\"13\":\"18_vs_16_b.png\",\"14\":\"20_vs_18_b.png\",\"15\":\"12_vs_9_b.png\",\"16\":\"21_vs_18_b.png\",\"17\":\"18_vs_16_b.png\",\"18\":\"18_vs_21.png\",\"19\":\"12_vs_9_b.png\",\"20\":\"12_vs_16.png\",\"21\":\"9_vs_12.png\",\"22\":\"20_vs_15_b.png\",\"23\":\"9_vs_10.png\",\"24\":\"14_vs_12_b.png\",\"25\":\"18_vs_20.png\",\"26\":\"12_vs_14.png\",\"27\":\"10_vs_9_b.png\",\"28\":\"20_vs_18_b.png\",\"29\":\"16_vs_12_b.png\",\"30\":\"15_vs_20.png\",\"31\":\"16_vs_18.png\",\"32\":\"16_vs_18.png\",\"33\":\"12_vs_14.png\",\"34\":\"18_vs_16_b.png\",\"35\":\"16_vs_12_b.png\",\"36\":\"10_vs_9_b.png\",\"37\":\"18_vs_20.png\",\"38\":\"18_vs_21.png\",\"39\":\"14_vs_12_b.png\",\"40\":\"20_vs_15_b.png\",\"41\":\"9_vs_12.png\",\"42\":\"15_vs_20.png\",\"43\":\"9_vs_10.png\",\"44\":\"20_vs_18_b.png\",\"45\":\"12_vs_9_b.png\",\"46\":\"21_vs_18_b.png\",\"47\":\"12_vs_16.png\",\"48\":\"12_vs_14.png\",\"49\":\"16_vs_12_b.png\",\"50\":\"16_vs_18.png\",\"51\":\"18_vs_16_b.png\",\"52\":\"20_vs_15_b.png\",\"53\":\"18_vs_21.png\",\"54\":\"20_vs_18_b.png\",\"55\":\"15_vs_20.png\",\"56\":\"9_vs_12.png\",\"57\":\"12_vs_9_b.png\",\"58\":\"12_vs_16.png\",\"59\":\"21_vs_18_b.png\",\"60\":\"9_vs_10.png\",\"61\":\"18_vs_20.png\",\"62\":\"14_vs_12_b.png\",\"63\":\"10_vs_9_b.png\"},\"correct\":{\"0\":\"no\",\"1\":\"yes\",\"2\":\"no\",\"3\":\"no\",\"4\":\"no\",\"5\":\"yes\",\"6\":\"no\",\"7\":\"yes\",\"8\":\"yes\",\"9\":\"yes\",\"10\":\"yes\",\"11\":\"yes\",\"12\":\"no\",\"13\":\"yes\",\"14\":\"yes\",\"15\":\"yes\",\"16\":\"yes\",\"17\":\"yes\",\"18\":\"no\",\"19\":\"no\",\"20\":\"yes\",\"21\":\"yes\",\"22\":\"yes\",\"23\":\"no\",\"24\":\"no\",\"25\":\"no\",\"26\":\"no\",\"27\":\"no\",\"28\":\"no\",\"29\":\"yes\",\"30\":\"no\",\"31\":\"yes\",\"32\":\"no\",\"33\":\"yes\",\"34\":\"yes\",\"35\":\"yes\",\"36\":\"yes\",\"37\":\"no\",\"38\":\"no\",\"39\":\"no\",\"40\":\"yes\",\"41\":\"yes\",\"42\":\"no\",\"43\":\"yes\",\"44\":\"yes\",\"45\":\"yes\",\"46\":\"yes\",\"47\":\"yes\",\"48\":\"no\",\"49\":\"yes\",\"50\":\"yes\",\"51\":\"yes\",\"52\":\"yes\",\"53\":\"no\",\"54\":\"no\",\"55\":\"yes\",\"56\":\"yes\",\"57\":\"yes\",\"58\":\"yes\",\"59\":\"no\",\"60\":\"no\",\"61\":\"no\",\"62\":\"yes\",\"63\":\"yes\"}}'}\n"
     ]
    }
   ],
   "source": [
    "def run_ans_full(num_repeats):\n",
    "    files = [\"12_vs_14.png\", \"12_vs_16.png\", \"15_vs_20.png\", \"16_vs_18.png\", \"18_vs_20.png\", \"18_vs_21.png\", \"9_vs_10.png\", \"9_vs_12.png\", \"10_vs_9_b.png\", \"12_vs_9_b.png\", \"14_vs_12_b.png\", \"16_vs_12_b.png\", \"18_vs_16_b.png\", \"20_vs_15_b.png\", \"20_vs_18_b.png\", \"21_vs_18_b.png\"]\n",
    "    answers = [\"yellow\", \"yellow\", \"yellow\", \"yellow\", \"yellow\", \"yellow\", \"yellow\", \"yellow\", \"blue\", \"blue\", \"blue\", \"blue\", \"blue\", \"blue\", \"blue\", \"blue\"]    \n",
    "    \n",
    "    total = 0\n",
    "    score = []\n",
    "\n",
    "    print(\"Welcome to the ANS test! For each trial, click the button which corresponds to the colour of the circles in the oval with the greatest number of circles, but be quick!\") \n",
    "\n",
    "    print(\"To generate your unique ID, please input the first two letters of the first name of a childhood best friend, and the initial of your favourite actor. For example, Amy and Tom Cruise would give the ID AMTC\")\n",
    "    ans1 = input(\">> \")\n",
    "    print(\"What is your age in years? please give a number:\")\n",
    "    ans2 = input(\">> \")\n",
    "    print(\"What gender do you identify as? please input f for female, m for male, and nb for nonbinary: \")\n",
    "    ans3 = input(\">> \")\n",
    "\n",
    "    for _ in range(num_repeats):\n",
    "        indices = list(range(len(files)))\n",
    "        random.shuffle(indices)\n",
    "        \n",
    "        for i in indices:\n",
    "            score = run_ans_test(files[i], answers[i])\n",
    "            total += score\n",
    "        \n",
    "    df = pd.DataFrame(results_dict)\n",
    "\n",
    "    data_dict = {\n",
    "        'id': ans1,\n",
    "        'age': ans2,\n",
    "        'gender': ans3,\n",
    "        'score': total,\n",
    "        'results': df.to_json()\n",
    "    }\n",
    "\n",
    "    form_url = \"https://docs.google.com/forms/d/e/1FAIpQLScVS__ITc_Ju4ASqFvF-i14lLPBEdFCqLk-vU4RqIkBrK7VRw/viewform?usp=sf_link\"\n",
    "    send_to_google_form(data_dict, form_url)\n",
    "           \n",
    "    print(\"You scored\", total)\n",
    "    df = pd.read_csv(\"results.csv\")\n",
    "    print(df)\n",
    "    print(data_dict)\n",
    "    return data_dict\n",
    "\n",
    "num_repeats = 4\n",
    "data_dict = run_ans_full(num_repeats)\n"
   ]
  },
  {
   "cell_type": "code",
   "execution_count": 17,
   "id": "e44218da-fdca-4d90-975e-089bc08311e2",
   "metadata": {},
   "outputs": [],
   "source": [
    "data_dict = {'id': 'maia', 'age': '21', 'gender': 'female', 'score': 10, 'results': '{\"filename\":{\"0\":\"12_vs_16.png\",\"1\":\"9_vs_10.png\",\"2\":\"18_vs_20.png\",\"3\":\"12_vs_9_b.png\",\"4\":\"20_vs_15_b.png\",\"5\":\"16_vs_12_b.png\",\"6\":\"12_vs_14.png\",\"7\":\"15_vs_20.png\",\"8\":\"10_vs_9_b.png\",\"9\":\"20_vs_18_b.png\",\"10\":\"14_vs_12_b.png\",\"11\":\"18_vs_16_b.png\",\"12\":\"9_vs_12.png\",\"13\":\"21_vs_18_b.png\",\"14\":\"18_vs_21.png\",\"15\":\"16_vs_18.png\"},\"correct\":{\"0\":\"yes\",\"1\":\"no\",\"2\":\"no\",\"3\":\"yes\",\"4\":\"no\",\"5\":\"yes\",\"6\":\"yes\",\"7\":\"yes\",\"8\":\"yes\",\"9\":\"yes\",\"10\":\"yes\",\"11\":\"yes\",\"12\":\"no\",\"13\":\"yes\",\"14\":\"no\",\"15\":\"no\"}}'}\n",
    "form_url = \"https://docs.google.com/forms/d/e/1FAIpQLScVS__ITc_Ju4ASqFvF-i14lLPBEdFCqLk-vU4RqIkBrK7VRw/viewform?usp=sf_link\"\n",
    "\n",
    "form_id = form_url[34:90]\n",
    "view_form_url = f'https://docs.google.com/forms/d/e/{form_id}/viewform'\n",
    "post_form_url = f'https://docs.google.com/forms/d/e/{form_id}/formResponse'\n",
    "\n",
    "page = requests.get(view_form_url)\n",
    "content = BeautifulSoup(page.content, \"html.parser\").find('script', type='text/javascript')\n",
    "content = content.text[27:-1]\n",
    "result = json.loads(content)[1][1]\n",
    "form_dict = {}\n",
    "\n",
    "loaded_all = True\n",
    "for item in result:\n",
    "    if item[1] not in data_dict:\n",
    "        print(f\"Form item {item[1]} not found. Data not uploaded.\")\n",
    "        loaded_all = False\n",
    "    form_dict[f'entry.{item[4][0][0]}'] = data_dict[item[1]]\n",
    "\n",
    "post_result = requests.post(post_form_url, data=form_dict)\n",
    "\n",
    "\n",
    "\n"
   ]
  },
  {
   "cell_type": "code",
   "execution_count": 14,
   "id": "9d0a2a67-62d7-4932-a627-80d8256504f4",
   "metadata": {},
   "outputs": [
    {
     "data": {
      "text/plain": [
       "{'filename': ['12_vs_16.png',\n",
       "  '9_vs_10.png',\n",
       "  '18_vs_20.png',\n",
       "  '12_vs_9_b.png',\n",
       "  '20_vs_15_b.png',\n",
       "  '16_vs_12_b.png',\n",
       "  '12_vs_14.png',\n",
       "  '15_vs_20.png',\n",
       "  '10_vs_9_b.png',\n",
       "  '20_vs_18_b.png',\n",
       "  '14_vs_12_b.png',\n",
       "  '18_vs_16_b.png',\n",
       "  '9_vs_12.png',\n",
       "  '21_vs_18_b.png',\n",
       "  '18_vs_21.png',\n",
       "  '16_vs_18.png'],\n",
       " 'correct': ['yes',\n",
       "  'no',\n",
       "  'no',\n",
       "  'yes',\n",
       "  'no',\n",
       "  'yes',\n",
       "  'yes',\n",
       "  'yes',\n",
       "  'yes',\n",
       "  'yes',\n",
       "  'yes',\n",
       "  'yes',\n",
       "  'no',\n",
       "  'yes',\n",
       "  'no',\n",
       "  'no']}"
      ]
     },
     "execution_count": 14,
     "metadata": {},
     "output_type": "execute_result"
    }
   ],
   "source": [
    "results_dict"
   ]
  },
  {
   "cell_type": "code",
   "execution_count": 10,
   "id": "36572969-ba89-4cc6-b48d-50916c293cb9",
   "metadata": {},
   "outputs": [
    {
     "name": "stdout",
     "output_type": "stream",
     "text": [
      "          filename correct\n",
      "0   20_vs_18_b.png     yes\n",
      "1   14_vs_12_b.png     yes\n",
      "2      9_vs_10.png     yes\n",
      "3    10_vs_9_b.png     yes\n",
      "4      9_vs_12.png     yes\n",
      "5   18_vs_16_b.png     yes\n",
      "6     18_vs_21.png     yes\n",
      "7     18_vs_20.png     yes\n",
      "8     16_vs_18.png      no\n",
      "9   16_vs_12_b.png     yes\n",
      "10  20_vs_15_b.png     yes\n",
      "11  21_vs_18_b.png     yes\n",
      "12    12_vs_14.png     yes\n",
      "13    15_vs_20.png      no\n",
      "14   12_vs_9_b.png      no\n",
      "15    12_vs_16.png     yes\n"
     ]
    },
    {
     "ename": "NameError",
     "evalue": "name 'data_dict' is not defined",
     "output_type": "error",
     "traceback": [
      "\u001b[0;31m---------------------------------------------------------------------------\u001b[0m",
      "\u001b[0;31mNameError\u001b[0m                                 Traceback (most recent call last)",
      "Cell \u001b[0;32mIn[10], line 3\u001b[0m\n\u001b[1;32m      1\u001b[0m df \u001b[38;5;241m=\u001b[39m pd\u001b[38;5;241m.\u001b[39mread_csv(\u001b[38;5;124m\"\u001b[39m\u001b[38;5;124mresults.csv\u001b[39m\u001b[38;5;124m\"\u001b[39m)\n\u001b[1;32m      2\u001b[0m \u001b[38;5;28mprint\u001b[39m(df)\n\u001b[0;32m----> 3\u001b[0m \u001b[38;5;28mprint\u001b[39m(\u001b[43mdata_dict\u001b[49m)\n",
      "\u001b[0;31mNameError\u001b[0m: name 'data_dict' is not defined"
     ]
    }
   ],
   "source": [
    "df = pd.read_csv(\"results.csv\")\n",
    "print(df)\n",
    "print(data_dict)"
   ]
  },
  {
   "cell_type": "code",
   "execution_count": 11,
   "id": "975a7451-53f3-4cff-b18b-661daa498f5f",
   "metadata": {},
   "outputs": [
    {
     "data": {
      "text/plain": [
       "'{\"filename\":{\"0\":\"20_vs_18_b.png\",\"1\":\"14_vs_12_b.png\",\"2\":\"9_vs_10.png\",\"3\":\"10_vs_9_b.png\",\"4\":\"9_vs_12.png\",\"5\":\"18_vs_16_b.png\",\"6\":\"18_vs_21.png\",\"7\":\"18_vs_20.png\",\"8\":\"16_vs_18.png\",\"9\":\"16_vs_12_b.png\",\"10\":\"20_vs_15_b.png\",\"11\":\"21_vs_18_b.png\",\"12\":\"12_vs_14.png\",\"13\":\"15_vs_20.png\",\"14\":\"12_vs_9_b.png\",\"15\":\"12_vs_16.png\"},\"correct\":{\"0\":\"yes\",\"1\":\"yes\",\"2\":\"yes\",\"3\":\"yes\",\"4\":\"yes\",\"5\":\"yes\",\"6\":\"yes\",\"7\":\"yes\",\"8\":\"no\",\"9\":\"yes\",\"10\":\"yes\",\"11\":\"yes\",\"12\":\"yes\",\"13\":\"no\",\"14\":\"no\",\"15\":\"yes\"}}'"
      ]
     },
     "execution_count": 11,
     "metadata": {},
     "output_type": "execute_result"
    }
   ],
   "source": [
    "myjson = df.to_json()\n",
    "myjson"
   ]
  },
  {
   "cell_type": "code",
   "execution_count": 11,
   "id": "b5ccd0f1-91a0-4978-a178-cb2e182e1292",
   "metadata": {},
   "outputs": [
    {
     "name": "stderr",
     "output_type": "stream",
     "text": [
      "/tmp/ipykernel_209610/2248632611.py:1: FutureWarning: Passing literal json to 'read_json' is deprecated and will be removed in a future version. To read from a literal string, wrap it in a 'StringIO' object.\n",
      "  newdf = pd.read_json(myjson)\n"
     ]
    },
    {
     "data": {
      "text/html": [
       "<div>\n",
       "<style scoped>\n",
       "    .dataframe tbody tr th:only-of-type {\n",
       "        vertical-align: middle;\n",
       "    }\n",
       "\n",
       "    .dataframe tbody tr th {\n",
       "        vertical-align: top;\n",
       "    }\n",
       "\n",
       "    .dataframe thead th {\n",
       "        text-align: right;\n",
       "    }\n",
       "</style>\n",
       "<table border=\"1\" class=\"dataframe\">\n",
       "  <thead>\n",
       "    <tr style=\"text-align: right;\">\n",
       "      <th></th>\n",
       "      <th>filename</th>\n",
       "      <th>correct</th>\n",
       "    </tr>\n",
       "  </thead>\n",
       "  <tbody>\n",
       "    <tr>\n",
       "      <th>0</th>\n",
       "      <td>20_vs_18_b.png</td>\n",
       "      <td>yes</td>\n",
       "    </tr>\n",
       "    <tr>\n",
       "      <th>1</th>\n",
       "      <td>14_vs_12_b.png</td>\n",
       "      <td>yes</td>\n",
       "    </tr>\n",
       "    <tr>\n",
       "      <th>2</th>\n",
       "      <td>9_vs_10.png</td>\n",
       "      <td>yes</td>\n",
       "    </tr>\n",
       "    <tr>\n",
       "      <th>3</th>\n",
       "      <td>10_vs_9_b.png</td>\n",
       "      <td>yes</td>\n",
       "    </tr>\n",
       "    <tr>\n",
       "      <th>4</th>\n",
       "      <td>9_vs_12.png</td>\n",
       "      <td>yes</td>\n",
       "    </tr>\n",
       "    <tr>\n",
       "      <th>5</th>\n",
       "      <td>18_vs_16_b.png</td>\n",
       "      <td>yes</td>\n",
       "    </tr>\n",
       "    <tr>\n",
       "      <th>6</th>\n",
       "      <td>18_vs_21.png</td>\n",
       "      <td>yes</td>\n",
       "    </tr>\n",
       "    <tr>\n",
       "      <th>7</th>\n",
       "      <td>18_vs_20.png</td>\n",
       "      <td>yes</td>\n",
       "    </tr>\n",
       "    <tr>\n",
       "      <th>8</th>\n",
       "      <td>16_vs_18.png</td>\n",
       "      <td>no</td>\n",
       "    </tr>\n",
       "    <tr>\n",
       "      <th>9</th>\n",
       "      <td>16_vs_12_b.png</td>\n",
       "      <td>yes</td>\n",
       "    </tr>\n",
       "    <tr>\n",
       "      <th>10</th>\n",
       "      <td>20_vs_15_b.png</td>\n",
       "      <td>yes</td>\n",
       "    </tr>\n",
       "    <tr>\n",
       "      <th>11</th>\n",
       "      <td>21_vs_18_b.png</td>\n",
       "      <td>yes</td>\n",
       "    </tr>\n",
       "    <tr>\n",
       "      <th>12</th>\n",
       "      <td>12_vs_14.png</td>\n",
       "      <td>yes</td>\n",
       "    </tr>\n",
       "    <tr>\n",
       "      <th>13</th>\n",
       "      <td>15_vs_20.png</td>\n",
       "      <td>no</td>\n",
       "    </tr>\n",
       "    <tr>\n",
       "      <th>14</th>\n",
       "      <td>12_vs_9_b.png</td>\n",
       "      <td>no</td>\n",
       "    </tr>\n",
       "    <tr>\n",
       "      <th>15</th>\n",
       "      <td>12_vs_16.png</td>\n",
       "      <td>yes</td>\n",
       "    </tr>\n",
       "  </tbody>\n",
       "</table>\n",
       "</div>"
      ],
      "text/plain": [
       "          filename correct\n",
       "0   20_vs_18_b.png     yes\n",
       "1   14_vs_12_b.png     yes\n",
       "2      9_vs_10.png     yes\n",
       "3    10_vs_9_b.png     yes\n",
       "4      9_vs_12.png     yes\n",
       "5   18_vs_16_b.png     yes\n",
       "6     18_vs_21.png     yes\n",
       "7     18_vs_20.png     yes\n",
       "8     16_vs_18.png      no\n",
       "9   16_vs_12_b.png     yes\n",
       "10  20_vs_15_b.png     yes\n",
       "11  21_vs_18_b.png     yes\n",
       "12    12_vs_14.png     yes\n",
       "13    15_vs_20.png      no\n",
       "14   12_vs_9_b.png      no\n",
       "15    12_vs_16.png     yes"
      ]
     },
     "execution_count": 11,
     "metadata": {},
     "output_type": "execute_result"
    }
   ],
   "source": [
    "newdf = pd.read_json(myjson)\n",
    "newdf"
   ]
  },
  {
   "cell_type": "code",
   "execution_count": 12,
   "id": "cc2591cd-8a87-416d-92f9-8d0bdee1a1fb",
   "metadata": {},
   "outputs": [
    {
     "ename": "NameError",
     "evalue": "name 'data_dict' is not defined",
     "output_type": "error",
     "traceback": [
      "\u001b[0;31m---------------------------------------------------------------------------\u001b[0m",
      "\u001b[0;31mNameError\u001b[0m                                 Traceback (most recent call last)",
      "Cell \u001b[0;32mIn[12], line 1\u001b[0m\n\u001b[0;32m----> 1\u001b[0m \u001b[43mdata_dict\u001b[49m\n",
      "\u001b[0;31mNameError\u001b[0m: name 'data_dict' is not defined"
     ]
    }
   ],
   "source": [
    "data_dict"
   ]
  },
  {
   "cell_type": "code",
   "execution_count": null,
   "id": "11a5b7b6-162e-4060-adb3-b2c8cce0740f",
   "metadata": {},
   "outputs": [],
   "source": []
  }
 ],
 "metadata": {
  "kernelspec": {
   "display_name": "Python 3 (ipykernel)",
   "language": "python",
   "name": "python3"
  },
  "language_info": {
   "codemirror_mode": {
    "name": "ipython",
    "version": 3
   },
   "file_extension": ".py",
   "mimetype": "text/x-python",
   "name": "python",
   "nbconvert_exporter": "python",
   "pygments_lexer": "ipython3",
   "version": "3.10.10"
  }
 },
 "nbformat": 4,
 "nbformat_minor": 5
}
