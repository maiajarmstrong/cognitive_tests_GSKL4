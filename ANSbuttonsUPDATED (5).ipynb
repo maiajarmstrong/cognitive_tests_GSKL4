{
 "cells": [
  {
   "cell_type": "code",
   "execution_count": 1,
   "id": "ebf2e71f-df94-410d-8cde-ed4b730373db",
   "metadata": {},
   "outputs": [],
   "source": [
    "from IPython.display import display, Image, clear_output, HTML\n",
    "import time\n",
    "import random \n",
    "import ipywidgets as widgets\n",
    "from jupyter_ui_poll import ui_events\n",
    "import pandas as pd \n",
    "import requests\n",
    "from bs4 import BeautifulSoup\n",
    "import json"
   ]
  },
  {
   "cell_type": "code",
   "execution_count": 2,
   "id": "7126115b-f2b9-4206-bf73-78af7ef541ef",
   "metadata": {},
   "outputs": [],
   "source": [
    "results_dict = {\n",
    "    'filename': [],\n",
    "    'correct': []\n",
    "}"
   ]
  },
  {
   "cell_type": "code",
   "execution_count": 3,
   "id": "417ef4ef-43ce-4574-8cb2-ad2ce500b5e2",
   "metadata": {},
   "outputs": [],
   "source": [
    "def register_btn_event(btn):\n",
    "    event_info['type'] = \"button click\"\n",
    "    event_info['description'] = btn.description\n",
    "    event_info['time'] = time.time()\n",
    "    return"
   ]
  },
  {
   "cell_type": "code",
   "execution_count": 4,
   "id": "375aa2d5-4041-4b9f-93c7-676ccb0b1089",
   "metadata": {},
   "outputs": [
    {
     "data": {
      "text/html": [
       "<img style='width: 600px;' src=myfigure.png></img>"
      ],
      "text/plain": [
       "<IPython.core.display.HTML object>"
      ]
     },
     "metadata": {},
     "output_type": "display_data"
    }
   ],
   "source": [
    "def display_test_img(img_file):\n",
    "    style_str = f'width: 600px;'\n",
    "    html_out = HTML(f\"<img style='{style_str}' src={img_file}></img>\")\n",
    "    display(html_out)\n",
    "    \n",
    "display_test_img(\"myfigure.png\") "
   ]
  },
  {
   "cell_type": "code",
   "execution_count": 5,
   "id": "cb5a0b0c-745e-4ccc-b4e7-e089037fa1dc",
   "metadata": {},
   "outputs": [],
   "source": [
    "def send_to_google_form(data_dict, form_url):\n",
    "    form_id = form_url[34:90]\n",
    "    view_form_url = f'https://docs.google.com/forms/d/e/{form_id}/viewform'\n",
    "    post_form_url = f'https://docs.google.com/forms/d/e/{form_id}/formResponse'\n",
    "\n",
    "    page = requests.get(view_form_url)\n",
    "    content = BeautifulSoup(page.content, \"html.parser\").find('script', type='text/javascript')\n",
    "    content = content.text[27:-1]\n",
    "    result = json.loads(content)[1][1]\n",
    "    form_dict = {}\n",
    "    \n",
    "    loaded_all = True\n",
    "    for item in result:\n",
    "        if item[1] not in data_dict:\n",
    "            print(f\"Form item {item[1]} not found. Data not uploaded.\")\n",
    "            loaded_all = False\n",
    "            return False\n",
    "        form_dict[f'entry.{item[4][0][0]}'] = data_dict[item[1]]\n",
    "    \n",
    "    post_result = requests.post(post_form_url, data=form_dict)\n",
    "    return post_result.ok"
   ]
  },
  {
   "cell_type": "code",
   "execution_count": 6,
   "id": "2e314713-914b-48ed-adef-639705e34bd7",
   "metadata": {},
   "outputs": [],
   "source": [
    "event_info = {\n",
    "    'type': '',\n",
    "    'description': '',\n",
    "    'time': -1\n",
    "}\n",
    "\n",
    "def wait_for_event(timeout=-1, interval=0.001, max_rate=20, allow_interupt=True):    \n",
    "    start_wait = time.time()\n",
    "\n",
    "    # set event info to be empty\n",
    "    # as this is dict we can change entries\n",
    "    # directly without using\n",
    "    # the global keyword\n",
    "    event_info['type'] = \"\"\n",
    "    event_info['description'] = \"\"\n",
    "    event_info['time'] = -1\n",
    "\n",
    "    n_proc = int(max_rate*interval)+1\n",
    "    with ui_events() as ui_poll:\n",
    "        keep_looping = True\n",
    "        while keep_looping==True:\n",
    "            # process UI events\n",
    "            ui_poll(n_proc)\n",
    "\n",
    "            # end loop if we have waited more than the timeout period\n",
    "            if (timeout != -1) and (time.time() > start_wait + timeout):\n",
    "                keep_looping = False\n",
    "                \n",
    "            # end loop if event has occured\n",
    "            if allow_interupt==True and event_info['description']!=\"\":\n",
    "                keep_looping = False\n",
    "                \n",
    "            # add pause before looping\n",
    "            # to check events again\n",
    "            time.sleep(interval)\n",
    "    \n",
    "    # return event description after wait ends\n",
    "    # will be set to empty string '' if no event occured\n",
    "    return event_info\n",
    "\n",
    "# this function lets buttons \n",
    "# register events when clicked\n",
    "def register_btn_event(btn):\n",
    "    event_info['type'] = \"button click\"\n",
    "    event_info['description'] = btn.description\n",
    "    event_info['time'] = time.time()\n",
    "    return    "
   ]
  },
  {
   "cell_type": "code",
   "execution_count": 7,
   "id": "1bc66dcb-bedd-4c95-be00-b44720f5bfea",
   "metadata": {},
   "outputs": [],
   "source": [
    "def run_ans_test(img_file, right_answer):\n",
    "    blank_pic = Image(\"blank.png\", width=600)\n",
    "\n",
    "    btn1 = widgets.Button(description=\"blue\")\n",
    "    btn2 = widgets.Button(description=\"yellow\")\n",
    "\n",
    "    btn1.on_click(register_btn_event)\n",
    "    btn2.on_click(register_btn_event)\n",
    "\n",
    "    print(\"Welcome to the ANS test! For each trial, click the button which corresponds to the colour of the circles in the oval with the greatest number of circles, but be quick!\") \n",
    "\n",
    "    print(\"Please type yes if you consent to doing this task and inputting data on your age and gender identity\")\n",
    "    ans0 = input(\">> \")\n",
    "    print(\"To generate your unique ID, please input the first two letters of the first name of a childhood best friend, and the initial of your favourite actor. For example, Amy and Tom Cruise would give the ID AMTC\")\n",
    "    ans1 = input(\">> \")\n",
    "    print(\"What is your age in years? please give a number:\")\n",
    "    ans2 = input(\">> \")\n",
    "    print(\"What gender do you identify as? please input f for female, m for male, nb for nonbinary, o for other, and pns for prefer not to say: \")\n",
    "    ans3 = input(\">> \")\n",
    "\n",
    "    print(\"Get ready to start test test!\")\n",
    "    time.sleep(2)\n",
    "\n",
    "    display_test_img(img_file)\n",
    "    time.sleep(0.75)\n",
    "    clear_output(wait=True)\n",
    "    display(blank_pic)\n",
    "    print(\"Input your answer: blue or yellow\")\n",
    "    display(btn1)\n",
    "    display(btn2)\n",
    "\n",
    "    result = wait_for_event(timeout=3)\n",
    "\n",
    "    if result['description'] == right_answer:\n",
    "        score = 1\n",
    "    else:\n",
    "        score = 0\n",
    "\n",
    "    results_dict['filename'].append(img_file)\n",
    "    \n",
    "    if result['description'] == right_answer:\n",
    "        results_dict['correct'].append('yes')\n",
    "    else:\n",
    "        results_dict['correct'].append('no')\n",
    "\n",
    "    clear_output(wait=True)\n",
    "    return score\n"
   ]
  },
  {
   "cell_type": "code",
   "execution_count": 8,
   "id": "bde45138-b7ec-43b8-a21d-a9357494b34a",
   "metadata": {
    "editable": true,
    "slideshow": {
     "slide_type": ""
    },
    "tags": []
   },
   "outputs": [
    {
     "name": "stdout",
     "output_type": "stream",
     "text": [
      "Welcome to the ANS test! For each trial, click the button which corresponds to the colour of the circles in the oval with the greatest number of circles, but be quick!\n",
      "Please type yes if you consent to doing this task and inputting data on your age and gender identity\n"
     ]
    },
    {
     "ename": "TypeError",
     "evalue": "Frame 0 ({'shell': {...}, 'control': [b'1...) does not support the buffer interface.",
     "output_type": "error",
     "traceback": [
      "\u001b[0;31m---------------------------------------------------------------------------\u001b[0m",
      "\u001b[0;31mTypeError\u001b[0m                                 Traceback (most recent call last)",
      "File \u001b[0;32m/opt/tljh/user/lib/python3.10/site-packages/zmq/sugar/socket.py:738\u001b[0m, in \u001b[0;36mSocket.send_multipart\u001b[0;34m(self, msg_parts, flags, copy, track, **kwargs)\u001b[0m\n\u001b[1;32m    737\u001b[0m \u001b[38;5;28;01mtry\u001b[39;00m:\n\u001b[0;32m--> 738\u001b[0m     \u001b[38;5;28;43mmemoryview\u001b[39;49m\u001b[43m(\u001b[49m\u001b[43mmsg\u001b[49m\u001b[43m)\u001b[49m\n\u001b[1;32m    739\u001b[0m \u001b[38;5;28;01mexcept\u001b[39;00m \u001b[38;5;167;01mException\u001b[39;00m:\n",
      "\u001b[0;31mTypeError\u001b[0m: memoryview: a bytes-like object is required, not 'dict'",
      "\nDuring handling of the above exception, another exception occurred:\n",
      "\u001b[0;31mTypeError\u001b[0m                                 Traceback (most recent call last)",
      "Cell \u001b[0;32mIn[8], line 33\u001b[0m\n\u001b[1;32m     30\u001b[0m     \u001b[38;5;28mprint\u001b[39m(\u001b[38;5;124m\"\u001b[39m\u001b[38;5;124mYou scored\u001b[39m\u001b[38;5;124m\"\u001b[39m, total)\n\u001b[1;32m     32\u001b[0m num_repeats \u001b[38;5;241m=\u001b[39m \u001b[38;5;241m1\u001b[39m\n\u001b[0;32m---> 33\u001b[0m data_dict \u001b[38;5;241m=\u001b[39m \u001b[43mrun_ans_full\u001b[49m\u001b[43m(\u001b[49m\u001b[43mnum_repeats\u001b[49m\u001b[43m)\u001b[49m\n",
      "Cell \u001b[0;32mIn[8], line 14\u001b[0m, in \u001b[0;36mrun_ans_full\u001b[0;34m(num_repeats)\u001b[0m\n\u001b[1;32m     11\u001b[0m     random\u001b[38;5;241m.\u001b[39mshuffle(indices)\n\u001b[1;32m     13\u001b[0m     \u001b[38;5;28;01mfor\u001b[39;00m i \u001b[38;5;129;01min\u001b[39;00m indices:\n\u001b[0;32m---> 14\u001b[0m         score \u001b[38;5;241m=\u001b[39m \u001b[43mrun_ans_test\u001b[49m\u001b[43m(\u001b[49m\u001b[43mfiles\u001b[49m\u001b[43m[\u001b[49m\u001b[43mi\u001b[49m\u001b[43m]\u001b[49m\u001b[43m,\u001b[49m\u001b[43m \u001b[49m\u001b[43manswers\u001b[49m\u001b[43m[\u001b[49m\u001b[43mi\u001b[49m\u001b[43m]\u001b[49m\u001b[43m)\u001b[49m\n\u001b[1;32m     15\u001b[0m         total \u001b[38;5;241m+\u001b[39m\u001b[38;5;241m=\u001b[39m score\n\u001b[1;32m     17\u001b[0m df \u001b[38;5;241m=\u001b[39m pd\u001b[38;5;241m.\u001b[39mDataFrame(results_dict)\n",
      "Cell \u001b[0;32mIn[7], line 13\u001b[0m, in \u001b[0;36mrun_ans_test\u001b[0;34m(img_file, right_answer)\u001b[0m\n\u001b[1;32m     10\u001b[0m \u001b[38;5;28mprint\u001b[39m(\u001b[38;5;124m\"\u001b[39m\u001b[38;5;124mWelcome to the ANS test! For each trial, click the button which corresponds to the colour of the circles in the oval with the greatest number of circles, but be quick!\u001b[39m\u001b[38;5;124m\"\u001b[39m) \n\u001b[1;32m     12\u001b[0m \u001b[38;5;28mprint\u001b[39m(\u001b[38;5;124m\"\u001b[39m\u001b[38;5;124mPlease type yes if you consent to doing this task and inputting data on your age and gender identity\u001b[39m\u001b[38;5;124m\"\u001b[39m)\n\u001b[0;32m---> 13\u001b[0m ans0 \u001b[38;5;241m=\u001b[39m \u001b[38;5;28;43minput\u001b[39;49m\u001b[43m(\u001b[49m\u001b[38;5;124;43m\"\u001b[39;49m\u001b[38;5;124;43m>> \u001b[39;49m\u001b[38;5;124;43m\"\u001b[39;49m\u001b[43m)\u001b[49m\n\u001b[1;32m     14\u001b[0m \u001b[38;5;28mprint\u001b[39m(\u001b[38;5;124m\"\u001b[39m\u001b[38;5;124mTo generate your unique ID, please input the first two letters of the first name of a childhood best friend, and the initial of your favourite actor. For example, Amy and Tom Cruise would give the ID AMTC\u001b[39m\u001b[38;5;124m\"\u001b[39m)\n\u001b[1;32m     15\u001b[0m ans1 \u001b[38;5;241m=\u001b[39m \u001b[38;5;28minput\u001b[39m(\u001b[38;5;124m\"\u001b[39m\u001b[38;5;124m>> \u001b[39m\u001b[38;5;124m\"\u001b[39m)\n",
      "File \u001b[0;32m/opt/tljh/user/lib/python3.10/site-packages/ipykernel/kernelbase.py:1202\u001b[0m, in \u001b[0;36mKernel.raw_input\u001b[0;34m(self, prompt)\u001b[0m\n\u001b[1;32m   1200\u001b[0m     msg \u001b[38;5;241m=\u001b[39m \u001b[38;5;124m\"\u001b[39m\u001b[38;5;124mraw_input was called, but this frontend does not support input requests.\u001b[39m\u001b[38;5;124m\"\u001b[39m\n\u001b[1;32m   1201\u001b[0m     \u001b[38;5;28;01mraise\u001b[39;00m StdinNotImplementedError(msg)\n\u001b[0;32m-> 1202\u001b[0m \u001b[38;5;28;01mreturn\u001b[39;00m \u001b[38;5;28;43mself\u001b[39;49m\u001b[38;5;241;43m.\u001b[39;49m\u001b[43m_input_request\u001b[49m\u001b[43m(\u001b[49m\n\u001b[1;32m   1203\u001b[0m \u001b[43m    \u001b[49m\u001b[38;5;28;43mstr\u001b[39;49m\u001b[43m(\u001b[49m\u001b[43mprompt\u001b[49m\u001b[43m)\u001b[49m\u001b[43m,\u001b[49m\n\u001b[1;32m   1204\u001b[0m \u001b[43m    \u001b[49m\u001b[38;5;28;43mself\u001b[39;49m\u001b[38;5;241;43m.\u001b[39;49m\u001b[43m_parent_ident\u001b[49m\u001b[43m[\u001b[49m\u001b[38;5;124;43m\"\u001b[39;49m\u001b[38;5;124;43mshell\u001b[39;49m\u001b[38;5;124;43m\"\u001b[39;49m\u001b[43m]\u001b[49m\u001b[43m,\u001b[49m\n\u001b[1;32m   1205\u001b[0m \u001b[43m    \u001b[49m\u001b[38;5;28;43mself\u001b[39;49m\u001b[38;5;241;43m.\u001b[39;49m\u001b[43mget_parent\u001b[49m\u001b[43m(\u001b[49m\u001b[38;5;124;43m\"\u001b[39;49m\u001b[38;5;124;43mshell\u001b[39;49m\u001b[38;5;124;43m\"\u001b[39;49m\u001b[43m)\u001b[49m\u001b[43m,\u001b[49m\n\u001b[1;32m   1206\u001b[0m \u001b[43m    \u001b[49m\u001b[43mpassword\u001b[49m\u001b[38;5;241;43m=\u001b[39;49m\u001b[38;5;28;43;01mFalse\u001b[39;49;00m\u001b[43m,\u001b[49m\n\u001b[1;32m   1207\u001b[0m \u001b[43m\u001b[49m\u001b[43m)\u001b[49m\n",
      "File \u001b[0;32m/opt/tljh/user/lib/python3.10/site-packages/ipykernel/kernelbase.py:1226\u001b[0m, in \u001b[0;36mKernel._input_request\u001b[0;34m(self, prompt, ident, parent, password)\u001b[0m\n\u001b[1;32m   1224\u001b[0m \u001b[38;5;66;03m# Send the input request.\u001b[39;00m\n\u001b[1;32m   1225\u001b[0m content \u001b[38;5;241m=\u001b[39m json_clean(\u001b[38;5;28mdict\u001b[39m(prompt\u001b[38;5;241m=\u001b[39mprompt, password\u001b[38;5;241m=\u001b[39mpassword))\n\u001b[0;32m-> 1226\u001b[0m \u001b[38;5;28;43mself\u001b[39;49m\u001b[38;5;241;43m.\u001b[39;49m\u001b[43msession\u001b[49m\u001b[38;5;241;43m.\u001b[39;49m\u001b[43msend\u001b[49m\u001b[43m(\u001b[49m\u001b[38;5;28;43mself\u001b[39;49m\u001b[38;5;241;43m.\u001b[39;49m\u001b[43mstdin_socket\u001b[49m\u001b[43m,\u001b[49m\u001b[43m \u001b[49m\u001b[38;5;124;43m\"\u001b[39;49m\u001b[38;5;124;43minput_request\u001b[39;49m\u001b[38;5;124;43m\"\u001b[39;49m\u001b[43m,\u001b[49m\u001b[43m \u001b[49m\u001b[43mcontent\u001b[49m\u001b[43m,\u001b[49m\u001b[43m \u001b[49m\u001b[43mparent\u001b[49m\u001b[43m,\u001b[49m\u001b[43m \u001b[49m\u001b[43mident\u001b[49m\u001b[38;5;241;43m=\u001b[39;49m\u001b[43mident\u001b[49m\u001b[43m)\u001b[49m\n\u001b[1;32m   1228\u001b[0m \u001b[38;5;66;03m# Await a response.\u001b[39;00m\n\u001b[1;32m   1229\u001b[0m \u001b[38;5;28;01mwhile\u001b[39;00m \u001b[38;5;28;01mTrue\u001b[39;00m:\n",
      "File \u001b[0;32m/opt/tljh/user/lib/python3.10/site-packages/jupyter_client/session.py:861\u001b[0m, in \u001b[0;36mSession.send\u001b[0;34m(self, stream, msg_or_type, content, parent, ident, buffers, track, header, metadata)\u001b[0m\n\u001b[1;32m    858\u001b[0m \u001b[38;5;28;01melif\u001b[39;00m stream:\n\u001b[1;32m    859\u001b[0m     \u001b[38;5;66;03m# use dummy tracker, which will be done immediately\u001b[39;00m\n\u001b[1;32m    860\u001b[0m     tracker \u001b[38;5;241m=\u001b[39m DONE\n\u001b[0;32m--> 861\u001b[0m     \u001b[43mstream\u001b[49m\u001b[38;5;241;43m.\u001b[39;49m\u001b[43msend_multipart\u001b[49m\u001b[43m(\u001b[49m\u001b[43mto_send\u001b[49m\u001b[43m,\u001b[49m\u001b[43m \u001b[49m\u001b[43mcopy\u001b[49m\u001b[38;5;241;43m=\u001b[39;49m\u001b[43mcopy\u001b[49m\u001b[43m)\u001b[49m\n\u001b[1;32m    863\u001b[0m \u001b[38;5;28;01mif\u001b[39;00m \u001b[38;5;28mself\u001b[39m\u001b[38;5;241m.\u001b[39mdebug:\n\u001b[1;32m    864\u001b[0m     pprint\u001b[38;5;241m.\u001b[39mpprint(msg)  \u001b[38;5;66;03m# noqa\u001b[39;00m\n",
      "File \u001b[0;32m/opt/tljh/user/lib/python3.10/site-packages/zmq/sugar/socket.py:743\u001b[0m, in \u001b[0;36mSocket.send_multipart\u001b[0;34m(self, msg_parts, flags, copy, track, **kwargs)\u001b[0m\n\u001b[1;32m    741\u001b[0m         \u001b[38;5;28;01mif\u001b[39;00m \u001b[38;5;28mlen\u001b[39m(rmsg) \u001b[38;5;241m>\u001b[39m \u001b[38;5;241m32\u001b[39m:\n\u001b[1;32m    742\u001b[0m             rmsg \u001b[38;5;241m=\u001b[39m rmsg[:\u001b[38;5;241m32\u001b[39m] \u001b[38;5;241m+\u001b[39m \u001b[38;5;124m'\u001b[39m\u001b[38;5;124m...\u001b[39m\u001b[38;5;124m'\u001b[39m\n\u001b[0;32m--> 743\u001b[0m         \u001b[38;5;28;01mraise\u001b[39;00m \u001b[38;5;167;01mTypeError\u001b[39;00m(\n\u001b[1;32m    744\u001b[0m             \u001b[38;5;124m\"\u001b[39m\u001b[38;5;124mFrame \u001b[39m\u001b[38;5;132;01m%i\u001b[39;00m\u001b[38;5;124m (\u001b[39m\u001b[38;5;132;01m%s\u001b[39;00m\u001b[38;5;124m) does not support the buffer interface.\u001b[39m\u001b[38;5;124m\"\u001b[39m\n\u001b[1;32m    745\u001b[0m             \u001b[38;5;241m%\u001b[39m (\n\u001b[1;32m    746\u001b[0m                 i,\n\u001b[1;32m    747\u001b[0m                 rmsg,\n\u001b[1;32m    748\u001b[0m             )\n\u001b[1;32m    749\u001b[0m         )\n\u001b[1;32m    750\u001b[0m \u001b[38;5;28;01mfor\u001b[39;00m msg \u001b[38;5;129;01min\u001b[39;00m msg_parts[:\u001b[38;5;241m-\u001b[39m\u001b[38;5;241m1\u001b[39m]:\n\u001b[1;32m    751\u001b[0m     \u001b[38;5;28mself\u001b[39m\u001b[38;5;241m.\u001b[39msend(msg, zmq\u001b[38;5;241m.\u001b[39mSNDMORE \u001b[38;5;241m|\u001b[39m flags, copy\u001b[38;5;241m=\u001b[39mcopy, track\u001b[38;5;241m=\u001b[39mtrack)\n",
      "\u001b[0;31mTypeError\u001b[0m: Frame 0 ({'shell': {...}, 'control': [b'1...) does not support the buffer interface."
     ]
    }
   ],
   "source": [
    "def run_ans_full(num_repeats):\n",
    "    files = [\"12_vs_14.png\", \"12_vs_16.png\", \"15_vs_20.png\", \"16_vs_18.png\", \"18_vs_20.png\", \"18_vs_21.png\", \"9_vs_10.png\", \"9_vs_12.png\", \"10_vs_9_b.png\", \"12_vs_9_b.png\", \"14_vs_12_b.png\", \"16_vs_12_b.png\", \"18_vs_16_b.png\", \"20_vs_15_b.png\", \"20_vs_18_b.png\", \"21_vs_18_b.png\"]\n",
    "    answers = [\"yellow\", \"yellow\", \"yellow\", \"yellow\", \"yellow\", \"yellow\", \"yellow\", \"yellow\", \"blue\", \"blue\", \"blue\", \"blue\", \"blue\", \"blue\", \"blue\", \"blue\"]    \n",
    "    \n",
    "    total = 0\n",
    "    score = []\n",
    " \n",
    "\n",
    "    for _ in range(num_repeats):\n",
    "        indices = list(range(len(files)))\n",
    "        random.shuffle(indices)\n",
    "        \n",
    "        for i in indices:\n",
    "            score = run_ans_test(files[i], answers[i])\n",
    "            total += score\n",
    "        \n",
    "    df = pd.DataFrame(results_dict)\n",
    "\n",
    "    data_dict = {\n",
    "        'id': ans1,\n",
    "        'age': ans2,\n",
    "        'gender': ans3,\n",
    "        'score': total,\n",
    "        'results': df.to_json()\n",
    "    }\n",
    "\n",
    "    form_url = \"https://docs.google.com/forms/d/e/1FAIpQLScVS__ITc_Ju4ASqFvF-i14lLPBEdFCqLk-vU4RqIkBrK7VRw/viewform?usp=sf_link\"\n",
    "    send_to_google_form(data_dict, form_url)\n",
    "           \n",
    "    print(\"You scored\", total)\n",
    "\n",
    "num_repeats = 1\n",
    "data_dict = run_ans_full(num_repeats)\n"
   ]
  },
  {
   "cell_type": "code",
   "execution_count": null,
   "id": "e44218da-fdca-4d90-975e-089bc08311e2",
   "metadata": {},
   "outputs": [],
   "source": [
    "data_dict = {'id': 'maia', 'age': '21', 'gender': 'female', 'score': 10, 'results': '{\"filename\":{\"0\":\"12_vs_16.png\",\"1\":\"9_vs_10.png\",\"2\":\"18_vs_20.png\",\"3\":\"12_vs_9_b.png\",\"4\":\"20_vs_15_b.png\",\"5\":\"16_vs_12_b.png\",\"6\":\"12_vs_14.png\",\"7\":\"15_vs_20.png\",\"8\":\"10_vs_9_b.png\",\"9\":\"20_vs_18_b.png\",\"10\":\"14_vs_12_b.png\",\"11\":\"18_vs_16_b.png\",\"12\":\"9_vs_12.png\",\"13\":\"21_vs_18_b.png\",\"14\":\"18_vs_21.png\",\"15\":\"16_vs_18.png\"},\"correct\":{\"0\":\"yes\",\"1\":\"no\",\"2\":\"no\",\"3\":\"yes\",\"4\":\"no\",\"5\":\"yes\",\"6\":\"yes\",\"7\":\"yes\",\"8\":\"yes\",\"9\":\"yes\",\"10\":\"yes\",\"11\":\"yes\",\"12\":\"no\",\"13\":\"yes\",\"14\":\"no\",\"15\":\"no\"}}'}\n",
    "form_url = \"https://docs.google.com/forms/d/e/1FAIpQLScVS__ITc_Ju4ASqFvF-i14lLPBEdFCqLk-vU4RqIkBrK7VRw/viewform?usp=sf_link\"\n",
    "\n",
    "form_id = form_url[34:90]\n",
    "view_form_url = f'https://docs.google.com/forms/d/e/{form_id}/viewform'\n",
    "post_form_url = f'https://docs.google.com/forms/d/e/{form_id}/formResponse'\n",
    "\n",
    "page = requests.get(view_form_url)\n",
    "content = BeautifulSoup(page.content, \"html.parser\").find('script', type='text/javascript')\n",
    "content = content.text[27:-1]\n",
    "result = json.loads(content)[1][1]\n",
    "form_dict = {}\n",
    "\n",
    "loaded_all = True\n",
    "for item in result:\n",
    "    if item[1] not in data_dict:\n",
    "        print(f\"Form item {item[1]} not found. Data not uploaded.\")\n",
    "        loaded_all = False\n",
    "    form_dict[f'entry.{item[4][0][0]}'] = data_dict[item[1]]\n",
    "\n",
    "post_result = requests.post(post_form_url, data=form_dict)\n",
    "\n",
    "\n",
    "\n"
   ]
  },
  {
   "cell_type": "code",
   "execution_count": null,
   "id": "11a5b7b6-162e-4060-adb3-b2c8cce0740f",
   "metadata": {},
   "outputs": [],
   "source": []
  }
 ],
 "metadata": {
  "kernelspec": {
   "display_name": "Python 3 (ipykernel)",
   "language": "python",
   "name": "python3"
  },
  "language_info": {
   "codemirror_mode": {
    "name": "ipython",
    "version": 3
   },
   "file_extension": ".py",
   "mimetype": "text/x-python",
   "name": "python",
   "nbconvert_exporter": "python",
   "pygments_lexer": "ipython3",
   "version": "3.10.10"
  }
 },
 "nbformat": 4,
 "nbformat_minor": 5
}
